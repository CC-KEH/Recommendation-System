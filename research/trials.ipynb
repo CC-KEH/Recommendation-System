{
 "cells": [
  {
   "cell_type": "code",
   "execution_count": 2,
   "metadata": {},
   "outputs": [],
   "source": [
    "import pandas as pd\n",
    "import numpy as np\n",
    "import matplotlib.pyplot as plt\n",
    "import seaborn as sns"
   ]
  },
  {
   "cell_type": "code",
   "execution_count": 3,
   "metadata": {},
   "outputs": [
    {
     "name": "stderr",
     "output_type": "stream",
     "text": [
      "C:\\Users\\arbas\\AppData\\Local\\Temp\\ipykernel_19300\\1614979886.py:1: DtypeWarning: Columns (3) have mixed types. Specify dtype option on import or set low_memory=False.\n",
      "  books = pd.read_csv('data/book/Books.csv')\n"
     ]
    }
   ],
   "source": [
    "books = pd.read_csv('data/book/Books.csv')\n",
    "users = pd.read_csv('data/book/Users.csv')\n",
    "ratings = pd.read_csv('data/book/Ratings.csv')"
   ]
  },
  {
   "cell_type": "code",
   "execution_count": 4,
   "metadata": {},
   "outputs": [
    {
     "data": {
      "text/html": [
       "<div>\n",
       "<style scoped>\n",
       "    .dataframe tbody tr th:only-of-type {\n",
       "        vertical-align: middle;\n",
       "    }\n",
       "\n",
       "    .dataframe tbody tr th {\n",
       "        vertical-align: top;\n",
       "    }\n",
       "\n",
       "    .dataframe thead th {\n",
       "        text-align: right;\n",
       "    }\n",
       "</style>\n",
       "<table border=\"1\" class=\"dataframe\">\n",
       "  <thead>\n",
       "    <tr style=\"text-align: right;\">\n",
       "      <th></th>\n",
       "      <th>ISBN</th>\n",
       "      <th>Book-Title</th>\n",
       "      <th>Book-Author</th>\n",
       "      <th>Year-Of-Publication</th>\n",
       "      <th>Publisher</th>\n",
       "      <th>Image-URL-S</th>\n",
       "      <th>Image-URL-M</th>\n",
       "      <th>Image-URL-L</th>\n",
       "    </tr>\n",
       "  </thead>\n",
       "  <tbody>\n",
       "    <tr>\n",
       "      <th>0</th>\n",
       "      <td>0195153448</td>\n",
       "      <td>Classical Mythology</td>\n",
       "      <td>Mark P. O. Morford</td>\n",
       "      <td>2002</td>\n",
       "      <td>Oxford University Press</td>\n",
       "      <td>http://images.amazon.com/images/P/0195153448.0...</td>\n",
       "      <td>http://images.amazon.com/images/P/0195153448.0...</td>\n",
       "      <td>http://images.amazon.com/images/P/0195153448.0...</td>\n",
       "    </tr>\n",
       "    <tr>\n",
       "      <th>1</th>\n",
       "      <td>0002005018</td>\n",
       "      <td>Clara Callan</td>\n",
       "      <td>Richard Bruce Wright</td>\n",
       "      <td>2001</td>\n",
       "      <td>HarperFlamingo Canada</td>\n",
       "      <td>http://images.amazon.com/images/P/0002005018.0...</td>\n",
       "      <td>http://images.amazon.com/images/P/0002005018.0...</td>\n",
       "      <td>http://images.amazon.com/images/P/0002005018.0...</td>\n",
       "    </tr>\n",
       "    <tr>\n",
       "      <th>2</th>\n",
       "      <td>0060973129</td>\n",
       "      <td>Decision in Normandy</td>\n",
       "      <td>Carlo D'Este</td>\n",
       "      <td>1991</td>\n",
       "      <td>HarperPerennial</td>\n",
       "      <td>http://images.amazon.com/images/P/0060973129.0...</td>\n",
       "      <td>http://images.amazon.com/images/P/0060973129.0...</td>\n",
       "      <td>http://images.amazon.com/images/P/0060973129.0...</td>\n",
       "    </tr>\n",
       "    <tr>\n",
       "      <th>3</th>\n",
       "      <td>0374157065</td>\n",
       "      <td>Flu: The Story of the Great Influenza Pandemic...</td>\n",
       "      <td>Gina Bari Kolata</td>\n",
       "      <td>1999</td>\n",
       "      <td>Farrar Straus Giroux</td>\n",
       "      <td>http://images.amazon.com/images/P/0374157065.0...</td>\n",
       "      <td>http://images.amazon.com/images/P/0374157065.0...</td>\n",
       "      <td>http://images.amazon.com/images/P/0374157065.0...</td>\n",
       "    </tr>\n",
       "    <tr>\n",
       "      <th>4</th>\n",
       "      <td>0393045218</td>\n",
       "      <td>The Mummies of Urumchi</td>\n",
       "      <td>E. J. W. Barber</td>\n",
       "      <td>1999</td>\n",
       "      <td>W. W. Norton &amp;amp; Company</td>\n",
       "      <td>http://images.amazon.com/images/P/0393045218.0...</td>\n",
       "      <td>http://images.amazon.com/images/P/0393045218.0...</td>\n",
       "      <td>http://images.amazon.com/images/P/0393045218.0...</td>\n",
       "    </tr>\n",
       "  </tbody>\n",
       "</table>\n",
       "</div>"
      ],
      "text/plain": [
       "         ISBN                                         Book-Title  \\\n",
       "0  0195153448                                Classical Mythology   \n",
       "1  0002005018                                       Clara Callan   \n",
       "2  0060973129                               Decision in Normandy   \n",
       "3  0374157065  Flu: The Story of the Great Influenza Pandemic...   \n",
       "4  0393045218                             The Mummies of Urumchi   \n",
       "\n",
       "            Book-Author Year-Of-Publication                   Publisher  \\\n",
       "0    Mark P. O. Morford                2002     Oxford University Press   \n",
       "1  Richard Bruce Wright                2001       HarperFlamingo Canada   \n",
       "2          Carlo D'Este                1991             HarperPerennial   \n",
       "3      Gina Bari Kolata                1999        Farrar Straus Giroux   \n",
       "4       E. J. W. Barber                1999  W. W. Norton &amp; Company   \n",
       "\n",
       "                                         Image-URL-S  \\\n",
       "0  http://images.amazon.com/images/P/0195153448.0...   \n",
       "1  http://images.amazon.com/images/P/0002005018.0...   \n",
       "2  http://images.amazon.com/images/P/0060973129.0...   \n",
       "3  http://images.amazon.com/images/P/0374157065.0...   \n",
       "4  http://images.amazon.com/images/P/0393045218.0...   \n",
       "\n",
       "                                         Image-URL-M  \\\n",
       "0  http://images.amazon.com/images/P/0195153448.0...   \n",
       "1  http://images.amazon.com/images/P/0002005018.0...   \n",
       "2  http://images.amazon.com/images/P/0060973129.0...   \n",
       "3  http://images.amazon.com/images/P/0374157065.0...   \n",
       "4  http://images.amazon.com/images/P/0393045218.0...   \n",
       "\n",
       "                                         Image-URL-L  \n",
       "0  http://images.amazon.com/images/P/0195153448.0...  \n",
       "1  http://images.amazon.com/images/P/0002005018.0...  \n",
       "2  http://images.amazon.com/images/P/0060973129.0...  \n",
       "3  http://images.amazon.com/images/P/0374157065.0...  \n",
       "4  http://images.amazon.com/images/P/0393045218.0...  "
      ]
     },
     "execution_count": 4,
     "metadata": {},
     "output_type": "execute_result"
    }
   ],
   "source": [
    "books.head()"
   ]
  },
  {
   "cell_type": "code",
   "execution_count": 5,
   "metadata": {},
   "outputs": [
    {
     "data": {
      "text/html": [
       "<div>\n",
       "<style scoped>\n",
       "    .dataframe tbody tr th:only-of-type {\n",
       "        vertical-align: middle;\n",
       "    }\n",
       "\n",
       "    .dataframe tbody tr th {\n",
       "        vertical-align: top;\n",
       "    }\n",
       "\n",
       "    .dataframe thead th {\n",
       "        text-align: right;\n",
       "    }\n",
       "</style>\n",
       "<table border=\"1\" class=\"dataframe\">\n",
       "  <thead>\n",
       "    <tr style=\"text-align: right;\">\n",
       "      <th></th>\n",
       "      <th>User-ID</th>\n",
       "      <th>ISBN</th>\n",
       "      <th>Book-Rating</th>\n",
       "    </tr>\n",
       "  </thead>\n",
       "  <tbody>\n",
       "    <tr>\n",
       "      <th>0</th>\n",
       "      <td>276725</td>\n",
       "      <td>034545104X</td>\n",
       "      <td>0</td>\n",
       "    </tr>\n",
       "    <tr>\n",
       "      <th>1</th>\n",
       "      <td>276726</td>\n",
       "      <td>0155061224</td>\n",
       "      <td>5</td>\n",
       "    </tr>\n",
       "    <tr>\n",
       "      <th>2</th>\n",
       "      <td>276727</td>\n",
       "      <td>0446520802</td>\n",
       "      <td>0</td>\n",
       "    </tr>\n",
       "    <tr>\n",
       "      <th>3</th>\n",
       "      <td>276729</td>\n",
       "      <td>052165615X</td>\n",
       "      <td>3</td>\n",
       "    </tr>\n",
       "    <tr>\n",
       "      <th>4</th>\n",
       "      <td>276729</td>\n",
       "      <td>0521795028</td>\n",
       "      <td>6</td>\n",
       "    </tr>\n",
       "  </tbody>\n",
       "</table>\n",
       "</div>"
      ],
      "text/plain": [
       "   User-ID        ISBN  Book-Rating\n",
       "0   276725  034545104X            0\n",
       "1   276726  0155061224            5\n",
       "2   276727  0446520802            0\n",
       "3   276729  052165615X            3\n",
       "4   276729  0521795028            6"
      ]
     },
     "execution_count": 5,
     "metadata": {},
     "output_type": "execute_result"
    }
   ],
   "source": [
    "ratings.head()"
   ]
  },
  {
   "cell_type": "code",
   "execution_count": 6,
   "metadata": {},
   "outputs": [
    {
     "data": {
      "text/html": [
       "<div>\n",
       "<style scoped>\n",
       "    .dataframe tbody tr th:only-of-type {\n",
       "        vertical-align: middle;\n",
       "    }\n",
       "\n",
       "    .dataframe tbody tr th {\n",
       "        vertical-align: top;\n",
       "    }\n",
       "\n",
       "    .dataframe thead th {\n",
       "        text-align: right;\n",
       "    }\n",
       "</style>\n",
       "<table border=\"1\" class=\"dataframe\">\n",
       "  <thead>\n",
       "    <tr style=\"text-align: right;\">\n",
       "      <th></th>\n",
       "      <th>User-ID</th>\n",
       "      <th>Location</th>\n",
       "      <th>Age</th>\n",
       "    </tr>\n",
       "  </thead>\n",
       "  <tbody>\n",
       "    <tr>\n",
       "      <th>0</th>\n",
       "      <td>1</td>\n",
       "      <td>nyc, new york, usa</td>\n",
       "      <td>NaN</td>\n",
       "    </tr>\n",
       "    <tr>\n",
       "      <th>1</th>\n",
       "      <td>2</td>\n",
       "      <td>stockton, california, usa</td>\n",
       "      <td>18.0</td>\n",
       "    </tr>\n",
       "    <tr>\n",
       "      <th>2</th>\n",
       "      <td>3</td>\n",
       "      <td>moscow, yukon territory, russia</td>\n",
       "      <td>NaN</td>\n",
       "    </tr>\n",
       "    <tr>\n",
       "      <th>3</th>\n",
       "      <td>4</td>\n",
       "      <td>porto, v.n.gaia, portugal</td>\n",
       "      <td>17.0</td>\n",
       "    </tr>\n",
       "    <tr>\n",
       "      <th>4</th>\n",
       "      <td>5</td>\n",
       "      <td>farnborough, hants, united kingdom</td>\n",
       "      <td>NaN</td>\n",
       "    </tr>\n",
       "  </tbody>\n",
       "</table>\n",
       "</div>"
      ],
      "text/plain": [
       "   User-ID                            Location   Age\n",
       "0        1                  nyc, new york, usa   NaN\n",
       "1        2           stockton, california, usa  18.0\n",
       "2        3     moscow, yukon territory, russia   NaN\n",
       "3        4           porto, v.n.gaia, portugal  17.0\n",
       "4        5  farnborough, hants, united kingdom   NaN"
      ]
     },
     "execution_count": 6,
     "metadata": {},
     "output_type": "execute_result"
    }
   ],
   "source": [
    "users.head()"
   ]
  },
  {
   "cell_type": "code",
   "execution_count": 7,
   "metadata": {},
   "outputs": [
    {
     "name": "stdout",
     "output_type": "stream",
     "text": [
      "(271360, 8)\n",
      "(278858, 3)\n",
      "(1149780, 3)\n"
     ]
    }
   ],
   "source": [
    "print(books.shape)\n",
    "print(users.shape)\n",
    "print(ratings.shape)"
   ]
  },
  {
   "cell_type": "code",
   "execution_count": 8,
   "metadata": {},
   "outputs": [
    {
     "data": {
      "text/plain": [
       "ISBN                   0\n",
       "Book-Title             0\n",
       "Book-Author            2\n",
       "Year-Of-Publication    0\n",
       "Publisher              2\n",
       "Image-URL-S            0\n",
       "Image-URL-M            0\n",
       "Image-URL-L            3\n",
       "dtype: int64"
      ]
     },
     "execution_count": 8,
     "metadata": {},
     "output_type": "execute_result"
    }
   ],
   "source": [
    "books.isnull().sum()"
   ]
  },
  {
   "cell_type": "code",
   "execution_count": 9,
   "metadata": {},
   "outputs": [
    {
     "data": {
      "text/plain": [
       "User-ID          0\n",
       "Location         0\n",
       "Age         110762\n",
       "dtype: int64"
      ]
     },
     "execution_count": 9,
     "metadata": {},
     "output_type": "execute_result"
    }
   ],
   "source": [
    "users.isnull().sum()"
   ]
  },
  {
   "cell_type": "markdown",
   "metadata": {},
   "source": [
    "**Observation:** To many missing ages, in users data."
   ]
  },
  {
   "cell_type": "markdown",
   "metadata": {},
   "source": [
    "#### EDA"
   ]
  },
  {
   "cell_type": "markdown",
   "metadata": {},
   "source": [
    "### Creating Popularity Based Recommender System\n",
    "\n",
    "We'll display top 20 books, with highest average rating, where each book has minimum of 250 votes."
   ]
  },
  {
   "cell_type": "code",
   "execution_count": 37,
   "metadata": {},
   "outputs": [],
   "source": [
    "ratings_with_books = ratings.merge(right=books, on='ISBN')"
   ]
  },
  {
   "cell_type": "code",
   "execution_count": 38,
   "metadata": {},
   "outputs": [],
   "source": [
    "rating_df = ratings_with_books.groupby('Book-Title').count()['Book-Rating'].reset_index()\n",
    "rating_df.rename(columns={'Book-Rating': 'Rating-Count'}, inplace=True)"
   ]
  },
  {
   "cell_type": "code",
   "execution_count": 39,
   "metadata": {},
   "outputs": [],
   "source": [
    "avg_rating_df = pd.DataFrame(ratings_with_books.groupby('Book-Title')['Book-Rating'].mean()).reset_index()\n",
    "avg_rating_df.rename(columns={'Book-Rating': 'Average-Rating'}, inplace=True)"
   ]
  },
  {
   "cell_type": "code",
   "execution_count": 40,
   "metadata": {},
   "outputs": [
    {
     "data": {
      "text/html": [
       "<div>\n",
       "<style scoped>\n",
       "    .dataframe tbody tr th:only-of-type {\n",
       "        vertical-align: middle;\n",
       "    }\n",
       "\n",
       "    .dataframe tbody tr th {\n",
       "        vertical-align: top;\n",
       "    }\n",
       "\n",
       "    .dataframe thead th {\n",
       "        text-align: right;\n",
       "    }\n",
       "</style>\n",
       "<table border=\"1\" class=\"dataframe\">\n",
       "  <thead>\n",
       "    <tr style=\"text-align: right;\">\n",
       "      <th></th>\n",
       "      <th>Book-Title</th>\n",
       "      <th>Average-Rating</th>\n",
       "    </tr>\n",
       "  </thead>\n",
       "  <tbody>\n",
       "    <tr>\n",
       "      <th>0</th>\n",
       "      <td>A Light in the Storm: The Civil War Diary of ...</td>\n",
       "      <td>2.25</td>\n",
       "    </tr>\n",
       "    <tr>\n",
       "      <th>1</th>\n",
       "      <td>Always Have Popsicles</td>\n",
       "      <td>0.00</td>\n",
       "    </tr>\n",
       "    <tr>\n",
       "      <th>2</th>\n",
       "      <td>Apple Magic (The Collector's series)</td>\n",
       "      <td>0.00</td>\n",
       "    </tr>\n",
       "    <tr>\n",
       "      <th>3</th>\n",
       "      <td>Ask Lily (Young Women of Faith: Lily Series, ...</td>\n",
       "      <td>8.00</td>\n",
       "    </tr>\n",
       "    <tr>\n",
       "      <th>4</th>\n",
       "      <td>Beyond IBM: Leadership Marketing and Finance ...</td>\n",
       "      <td>0.00</td>\n",
       "    </tr>\n",
       "  </tbody>\n",
       "</table>\n",
       "</div>"
      ],
      "text/plain": [
       "                                          Book-Title  Average-Rating\n",
       "0   A Light in the Storm: The Civil War Diary of ...            2.25\n",
       "1                              Always Have Popsicles            0.00\n",
       "2               Apple Magic (The Collector's series)            0.00\n",
       "3   Ask Lily (Young Women of Faith: Lily Series, ...            8.00\n",
       "4   Beyond IBM: Leadership Marketing and Finance ...            0.00"
      ]
     },
     "execution_count": 40,
     "metadata": {},
     "output_type": "execute_result"
    }
   ],
   "source": [
    "avg_rating_df.head()"
   ]
  },
  {
   "cell_type": "code",
   "execution_count": 41,
   "metadata": {},
   "outputs": [],
   "source": [
    "popularity_df = rating_df.merge(right=avg_rating_df, on='Book-Title')"
   ]
  },
  {
   "cell_type": "code",
   "execution_count": 42,
   "metadata": {},
   "outputs": [
    {
     "data": {
      "text/html": [
       "<div>\n",
       "<style scoped>\n",
       "    .dataframe tbody tr th:only-of-type {\n",
       "        vertical-align: middle;\n",
       "    }\n",
       "\n",
       "    .dataframe tbody tr th {\n",
       "        vertical-align: top;\n",
       "    }\n",
       "\n",
       "    .dataframe thead th {\n",
       "        text-align: right;\n",
       "    }\n",
       "</style>\n",
       "<table border=\"1\" class=\"dataframe\">\n",
       "  <thead>\n",
       "    <tr style=\"text-align: right;\">\n",
       "      <th></th>\n",
       "      <th>Book-Title</th>\n",
       "      <th>Rating-Count</th>\n",
       "      <th>Average-Rating</th>\n",
       "    </tr>\n",
       "  </thead>\n",
       "  <tbody>\n",
       "    <tr>\n",
       "      <th>0</th>\n",
       "      <td>A Light in the Storm: The Civil War Diary of ...</td>\n",
       "      <td>4</td>\n",
       "      <td>2.250000</td>\n",
       "    </tr>\n",
       "    <tr>\n",
       "      <th>1</th>\n",
       "      <td>Always Have Popsicles</td>\n",
       "      <td>1</td>\n",
       "      <td>0.000000</td>\n",
       "    </tr>\n",
       "    <tr>\n",
       "      <th>2</th>\n",
       "      <td>Apple Magic (The Collector's series)</td>\n",
       "      <td>1</td>\n",
       "      <td>0.000000</td>\n",
       "    </tr>\n",
       "    <tr>\n",
       "      <th>3</th>\n",
       "      <td>Ask Lily (Young Women of Faith: Lily Series, ...</td>\n",
       "      <td>1</td>\n",
       "      <td>8.000000</td>\n",
       "    </tr>\n",
       "    <tr>\n",
       "      <th>4</th>\n",
       "      <td>Beyond IBM: Leadership Marketing and Finance ...</td>\n",
       "      <td>1</td>\n",
       "      <td>0.000000</td>\n",
       "    </tr>\n",
       "    <tr>\n",
       "      <th>...</th>\n",
       "      <td>...</td>\n",
       "      <td>...</td>\n",
       "      <td>...</td>\n",
       "    </tr>\n",
       "    <tr>\n",
       "      <th>241066</th>\n",
       "      <td>Ã?Â?lpiraten.</td>\n",
       "      <td>2</td>\n",
       "      <td>0.000000</td>\n",
       "    </tr>\n",
       "    <tr>\n",
       "      <th>241067</th>\n",
       "      <td>Ã?Â?rger mit Produkt X. Roman.</td>\n",
       "      <td>4</td>\n",
       "      <td>5.250000</td>\n",
       "    </tr>\n",
       "    <tr>\n",
       "      <th>241068</th>\n",
       "      <td>Ã?Â?sterlich leben.</td>\n",
       "      <td>1</td>\n",
       "      <td>7.000000</td>\n",
       "    </tr>\n",
       "    <tr>\n",
       "      <th>241069</th>\n",
       "      <td>Ã?Â?stlich der Berge.</td>\n",
       "      <td>3</td>\n",
       "      <td>2.666667</td>\n",
       "    </tr>\n",
       "    <tr>\n",
       "      <th>241070</th>\n",
       "      <td>Ã?Â?thique en toc</td>\n",
       "      <td>2</td>\n",
       "      <td>4.000000</td>\n",
       "    </tr>\n",
       "  </tbody>\n",
       "</table>\n",
       "<p>241071 rows × 3 columns</p>\n",
       "</div>"
      ],
      "text/plain": [
       "                                               Book-Title  Rating-Count  \\\n",
       "0        A Light in the Storm: The Civil War Diary of ...             4   \n",
       "1                                   Always Have Popsicles             1   \n",
       "2                    Apple Magic (The Collector's series)             1   \n",
       "3        Ask Lily (Young Women of Faith: Lily Series, ...             1   \n",
       "4        Beyond IBM: Leadership Marketing and Finance ...             1   \n",
       "...                                                   ...           ...   \n",
       "241066                                      Ã?Â?lpiraten.             2   \n",
       "241067                     Ã?Â?rger mit Produkt X. Roman.             4   \n",
       "241068                                Ã?Â?sterlich leben.             1   \n",
       "241069                              Ã?Â?stlich der Berge.             3   \n",
       "241070                                  Ã?Â?thique en toc             2   \n",
       "\n",
       "        Average-Rating  \n",
       "0             2.250000  \n",
       "1             0.000000  \n",
       "2             0.000000  \n",
       "3             8.000000  \n",
       "4             0.000000  \n",
       "...                ...  \n",
       "241066        0.000000  \n",
       "241067        5.250000  \n",
       "241068        7.000000  \n",
       "241069        2.666667  \n",
       "241070        4.000000  \n",
       "\n",
       "[241071 rows x 3 columns]"
      ]
     },
     "execution_count": 42,
     "metadata": {},
     "output_type": "execute_result"
    }
   ],
   "source": [
    "popularity_df"
   ]
  },
  {
   "cell_type": "code",
   "execution_count": 43,
   "metadata": {},
   "outputs": [],
   "source": [
    "popularity_df = popularity_df[popularity_df['Rating-Count']>=250].sort_values(by='Average-Rating', ascending=False).head(50)"
   ]
  },
  {
   "cell_type": "code",
   "execution_count": 44,
   "metadata": {},
   "outputs": [
    {
     "data": {
      "text/plain": [
       "(50, 3)"
      ]
     },
     "execution_count": 44,
     "metadata": {},
     "output_type": "execute_result"
    }
   ],
   "source": [
    "popularity_df.shape"
   ]
  },
  {
   "cell_type": "code",
   "execution_count": 47,
   "metadata": {},
   "outputs": [],
   "source": [
    "popularity_df = popularity_df.merge(right=books, on='Book-Title').drop_duplicates('Book-Title')[['Book-Title', 'Book-Author', 'Year-Of-Publication', 'Image-URL-M', 'Rating-Count', 'Average-Rating']]"
   ]
  },
  {
   "cell_type": "markdown",
   "metadata": {},
   "source": [
    "### Creating Collaborative Filtering Based Recommender System"
   ]
  },
  {
   "cell_type": "markdown",
   "metadata": {},
   "source": [
    "- Consider those users, who have rated atleast 200 books, i.e. experienced users.\n",
    "- Consider those books that have minimum 50 no of ratings."
   ]
  },
  {
   "cell_type": "code",
   "execution_count": 55,
   "metadata": {},
   "outputs": [
    {
     "data": {
      "text/plain": [
       "User-ID\n",
       "254       True\n",
       "2276      True\n",
       "2766      True\n",
       "2977      True\n",
       "3363      True\n",
       "          ... \n",
       "274308    True\n",
       "275970    True\n",
       "277427    True\n",
       "277639    True\n",
       "278418    True\n",
       "Name: Book-Title, Length: 816, dtype: bool"
      ]
     },
     "execution_count": 55,
     "metadata": {},
     "output_type": "execute_result"
    }
   ],
   "source": [
    "temp = ratings_with_books.groupby('User-ID').count()['Book-Title'] >= 200\n",
    "temp[temp]"
   ]
  },
  {
   "cell_type": "markdown",
   "metadata": {},
   "source": [
    "**Observation:** Total only 816 users have rated >= 200 times."
   ]
  },
  {
   "cell_type": "code",
   "execution_count": 57,
   "metadata": {},
   "outputs": [],
   "source": [
    "user_indices = temp[temp].index"
   ]
  },
  {
   "cell_type": "code",
   "execution_count": 63,
   "metadata": {},
   "outputs": [],
   "source": [
    "filtered_rating = ratings_with_books[ratings_with_books['User-ID'].isin(user_indices)]"
   ]
  },
  {
   "cell_type": "code",
   "execution_count": 71,
   "metadata": {},
   "outputs": [
    {
     "data": {
      "text/plain": [
       "Book-Title\n",
       "1984                                                                 True\n",
       "1st to Die: A Novel                                                  True\n",
       "2nd Chance                                                           True\n",
       "4 Blondes                                                            True\n",
       "A Bend in the Road                                                   True\n",
       "                                                                     ... \n",
       "Year of Wonders                                                      True\n",
       "You Belong To Me                                                     True\n",
       "Zen and the Art of Motorcycle Maintenance: An Inquiry into Values    True\n",
       "Zoya                                                                 True\n",
       "\\O\\\" Is for Outlaw\"                                                  True\n",
       "Name: Book-Rating, Length: 707, dtype: bool"
      ]
     },
     "execution_count": 71,
     "metadata": {},
     "output_type": "execute_result"
    }
   ],
   "source": [
    "temp3 = filtered_rating.groupby('Book-Title').count()['Book-Rating']>=50\n",
    "temp3[temp3]"
   ]
  },
  {
   "cell_type": "code",
   "execution_count": 72,
   "metadata": {},
   "outputs": [],
   "source": [
    "popular_books = temp3[temp3].index"
   ]
  },
  {
   "cell_type": "code",
   "execution_count": 75,
   "metadata": {},
   "outputs": [],
   "source": [
    "final_ratings = filtered_rating[filtered_rating['Book-Title'].isin(popular_books)]"
   ]
  },
  {
   "cell_type": "code",
   "execution_count": 78,
   "metadata": {},
   "outputs": [
    {
     "data": {
      "text/plain": [
       "0"
      ]
     },
     "execution_count": 78,
     "metadata": {},
     "output_type": "execute_result"
    }
   ],
   "source": [
    "final_ratings.duplicated().sum()"
   ]
  },
  {
   "cell_type": "markdown",
   "metadata": {},
   "source": [
    "|       | user1 | user2 | user3 | user4 |\n",
    "|-------|-------|-------|-------|-------|\n",
    "| book1 |   1   |   5   |   1   |   2   |\n",
    "| book2 |   2   |   5   |   3   |   4   |\n",
    "| book3 |   2   |   5   |   5   |   3   |\n",
    "| book4 |   1   |   5   |   1   |   2   |\n",
    "\n",
    "- This matrix is tells us what `useri`, rated `bookj`."
   ]
  },
  {
   "cell_type": "code",
   "execution_count": 81,
   "metadata": {},
   "outputs": [],
   "source": [
    "pt = final_ratings.pivot_table(index='Book-Title',columns='User-ID',values='Book-Rating')"
   ]
  },
  {
   "cell_type": "code",
   "execution_count": 82,
   "metadata": {},
   "outputs": [],
   "source": [
    "pt.fillna(0,inplace=True)\n",
    "# Try with KNN imputer maybe"
   ]
  },
  {
   "cell_type": "code",
   "execution_count": 88,
   "metadata": {},
   "outputs": [],
   "source": [
    "# Finding Simmilarity between books\n",
    "from sklearn.metrics.pairwise import cosine_similarity\n",
    "simmilarity_scores = cosine_similarity(pt)"
   ]
  },
  {
   "cell_type": "code",
   "execution_count": 89,
   "metadata": {},
   "outputs": [
    {
     "data": {
      "text/plain": [
       "array([1.        , 0.0999137 , 0.01189468, 0.        , 0.05229234,\n",
       "       0.02703559, 0.08005247, 0.133798  , 0.03177829, 0.03573298,\n",
       "       0.0226271 , 0.06592522, 0.020304  , 0.09425025, 0.1304464 ,\n",
       "       0.08089641, 0.10866788, 0.0496928 , 0.02453052, 0.11405415,\n",
       "       0.        , 0.13965274, 0.07645776, 0.05992325, 0.08499677,\n",
       "       0.        , 0.06829594, 0.13307519, 0.07404925, 0.11854319,\n",
       "       0.007483  , 0.01435345, 0.        , 0.07761015, 0.04406341,\n",
       "       0.0151626 , 0.09251799, 0.01776199, 0.02543351, 0.07778745,\n",
       "       0.11379679, 0.0554492 , 0.08139372, 0.08254087, 0.08560054,\n",
       "       0.05350252, 0.0534403 , 0.26331669, 0.09527704, 0.05861375,\n",
       "       0.08728505, 0.06575169, 0.        , 0.04353225, 0.01871487,\n",
       "       0.        , 0.05484345, 0.00531237, 0.07674541, 0.05085288,\n",
       "       0.18422052, 0.        , 0.01208759, 0.0290784 , 0.04169477,\n",
       "       0.12354122, 0.16140808, 0.        , 0.1301383 , 0.06445396,\n",
       "       0.        , 0.        , 0.        , 0.10686088, 0.02734449,\n",
       "       0.04405541, 0.0254609 , 0.06699347, 0.01297391, 0.10248694,\n",
       "       0.03167165, 0.01328403, 0.2306084 , 0.        , 0.10130612,\n",
       "       0.06009182, 0.13811804, 0.11361279, 0.08116824, 0.00829019,\n",
       "       0.0654278 , 0.        , 0.154433  , 0.03196179, 0.01041434,\n",
       "       0.02513457, 0.02060486, 0.02618677, 0.02119881, 0.        ,\n",
       "       0.01560485, 0.11802811, 0.04646003, 0.05669574, 0.06343332,\n",
       "       0.        , 0.0464449 , 0.05137593, 0.02737765, 0.06356828,\n",
       "       0.02061934, 0.02043932, 0.07231425, 0.01707714, 0.03274466,\n",
       "       0.        , 0.01539053, 0.10755626, 0.16102364, 0.15115449,\n",
       "       0.0607709 , 0.07930224, 0.05510014, 0.07266454, 0.03674914,\n",
       "       0.05783708, 0.02879387, 0.03269331, 0.0461238 , 0.00980762,\n",
       "       0.01628995, 0.07072309, 0.        , 0.        , 0.        ,\n",
       "       0.02366065, 0.02988946, 0.09718526, 0.        , 0.01646698,\n",
       "       0.02348879, 0.02738574, 0.        , 0.        , 0.01766268,\n",
       "       0.02806762, 0.        , 0.05841023, 0.0207297 , 0.1007532 ,\n",
       "       0.02695615, 0.10410091, 0.09644228, 0.13781517, 0.04878689,\n",
       "       0.0850604 , 0.01374966, 0.        , 0.07634515, 0.0085956 ,\n",
       "       0.04399795, 0.        , 0.01226526, 0.03900409, 0.07285412,\n",
       "       0.01186594, 0.01838869, 0.02598903, 0.01396025, 0.1432484 ,\n",
       "       0.05930779, 0.02512033, 0.02671383, 0.        , 0.14526273,\n",
       "       0.05462639, 0.        , 0.03117647, 0.03550135, 0.        ,\n",
       "       0.01912455, 0.21650925, 0.01476873, 0.0942457 , 0.02133718,\n",
       "       0.01961781, 0.0526149 , 0.07075313, 0.01083057, 0.03556034,\n",
       "       0.05840542, 0.        , 0.1431346 , 0.02032375, 0.10093291,\n",
       "       0.09542563, 0.06440055, 0.1254017 , 0.08761537, 0.01117956,\n",
       "       0.02396915, 0.        , 0.17585166, 0.05009695, 0.0464906 ,\n",
       "       0.10570753, 0.12936761, 0.05763207, 0.05234846, 0.03389069,\n",
       "       0.        , 0.08966431, 0.06224157, 0.04650607, 0.1484422 ,\n",
       "       0.08204197, 0.12021004, 0.08558838, 0.07928432, 0.11864451,\n",
       "       0.02371133, 0.00265847, 0.        , 0.        , 0.03577111,\n",
       "       0.14888113, 0.03614062, 0.07266389, 0.09496112, 0.05276845,\n",
       "       0.10003031, 0.07379678, 0.06261301, 0.0350914 , 0.01519651,\n",
       "       0.01981277, 0.02400254, 0.        , 0.03263048, 0.02080469,\n",
       "       0.01854434, 0.06631277, 0.01979871, 0.11481724, 0.07637937,\n",
       "       0.08206016, 0.        , 0.01988328, 0.        , 0.04577455,\n",
       "       0.08081263, 0.13615232, 0.01202785, 0.13163253, 0.07232632,\n",
       "       0.11537437, 0.0480334 , 0.01579975, 0.02565328, 0.04692154,\n",
       "       0.01909439, 0.09912675, 0.12916787, 0.        , 0.05368603,\n",
       "       0.018133  , 0.        , 0.04388786, 0.03392925, 0.16078996,\n",
       "       0.08248527, 0.06620646, 0.02910842, 0.        , 0.        ,\n",
       "       0.0855621 , 0.0768255 , 0.04675675, 0.01430223, 0.02069234,\n",
       "       0.04432946, 0.08450963, 0.0086322 , 0.02806576, 0.01970156,\n",
       "       0.02352055, 0.12225698, 0.        , 0.02418693, 0.06352963,\n",
       "       0.        , 0.05913776, 0.08410268, 0.13614834, 0.01927969,\n",
       "       0.01228408, 0.08387275, 0.04319889, 0.02867419, 0.02184841,\n",
       "       0.06373678, 0.07664613, 0.13914227, 0.1167132 , 0.0181063 ,\n",
       "       0.13099699, 0.04685691, 0.09459803, 0.        , 0.20469829,\n",
       "       0.07246533, 0.        , 0.12070545, 0.01015592, 0.02514496,\n",
       "       0.        , 0.08721251, 0.03902569, 0.18515419, 0.02209215,\n",
       "       0.0168586 , 0.02975525, 0.06644569, 0.09825353, 0.10198495,\n",
       "       0.01640181, 0.12147727, 0.10002511, 0.034028  , 0.02598903,\n",
       "       0.07456014, 0.0825619 , 0.01784878, 0.02121499, 0.14900173,\n",
       "       0.        , 0.        , 0.01035915, 0.02097733, 0.0287069 ,\n",
       "       0.        , 0.0202339 , 0.01164106, 0.00929156, 0.20143977,\n",
       "       0.01514332, 0.03802323, 0.06509278, 0.087832  , 0.05762668,\n",
       "       0.0604728 , 0.        , 0.01954386, 0.07641909, 0.15917803,\n",
       "       0.06976966, 0.        , 0.14220017, 0.07367223, 0.02864158,\n",
       "       0.04656746, 0.01760775, 0.11070589, 0.09539542, 0.07794022,\n",
       "       0.08683203, 0.10660466, 0.        , 0.02061445, 0.0584957 ,\n",
       "       0.0175095 , 0.05607437, 0.02056756, 0.09503665, 0.12770657,\n",
       "       0.        , 0.06654309, 0.08898117, 0.        , 0.02709897,\n",
       "       0.01465235, 0.0595601 , 0.01712107, 0.02407758, 0.01755262,\n",
       "       0.11486693, 0.06301849, 0.13546717, 0.        , 0.06500118,\n",
       "       0.        , 0.        , 0.05613944, 0.02207835, 0.00823155,\n",
       "       0.02238413, 0.06952804, 0.14912013, 0.0588459 , 0.        ,\n",
       "       0.08765604, 0.01506201, 0.09874723, 0.        , 0.01633246,\n",
       "       0.        , 0.04892769, 0.15628767, 0.        , 0.13094201,\n",
       "       0.12186923, 0.02269156, 0.01936178, 0.01077247, 0.02482524,\n",
       "       0.00873007, 0.08034116, 0.01853973, 0.06844392, 0.02108042,\n",
       "       0.12493306, 0.09741706, 0.08420688, 0.06191806, 0.02808902,\n",
       "       0.04224353, 0.04585585, 0.05089432, 0.        , 0.08751806,\n",
       "       0.00853122, 0.0966841 , 0.09965577, 0.        , 0.11991069,\n",
       "       0.01713707, 0.01975982, 0.10072475, 0.1269322 , 0.08757792,\n",
       "       0.08773485, 0.05194964, 0.07826898, 0.04479587, 0.05982032,\n",
       "       0.02241559, 0.02245645, 0.06355335, 0.01866119, 0.        ,\n",
       "       0.04425973, 0.        , 0.        , 0.0512667 , 0.01283226,\n",
       "       0.        , 0.        , 0.04734378, 0.0715927 , 0.10088269,\n",
       "       0.01674616, 0.09664898, 0.07883946, 0.00342853, 0.04634827,\n",
       "       0.10836801, 0.05011243, 0.05520465, 0.        , 0.05931206,\n",
       "       0.10522934, 0.        , 0.07360457, 0.        , 0.1329359 ,\n",
       "       0.04673439, 0.15690035, 0.        , 0.01714618, 0.05298478,\n",
       "       0.        , 0.07892531, 0.12754151, 0.00566885, 0.06966708,\n",
       "       0.05288922, 0.05762264, 0.11811512, 0.05028948, 0.18790708,\n",
       "       0.11199349, 0.06345598, 0.06237368, 0.        , 0.        ,\n",
       "       0.10574617, 0.11107324, 0.04519976, 0.0177835 , 0.        ,\n",
       "       0.01164473, 0.21422499, 0.05660341, 0.0423734 , 0.02578221,\n",
       "       0.07089329, 0.05065985, 0.07055971, 0.10637858, 0.01584746,\n",
       "       0.02369288, 0.0203974 , 0.13266966, 0.11435112, 0.08367406,\n",
       "       0.08924327, 0.10561371, 0.06692383, 0.07990103, 0.13025344,\n",
       "       0.        , 0.19459133, 0.02227429, 0.07855585, 0.        ,\n",
       "       0.05608029, 0.06564822, 0.        , 0.19150929, 0.06144289,\n",
       "       0.03409413, 0.09791433, 0.09349734, 0.02124117, 0.02257933,\n",
       "       0.06309649, 0.06870929, 0.08067563, 0.1657143 , 0.07028453,\n",
       "       0.01142064, 0.08321625, 0.17528356, 0.07801419, 0.01694899,\n",
       "       0.16298684, 0.25717553, 0.17935621, 0.05456291, 0.04027312,\n",
       "       0.06733334, 0.14085165, 0.22044678, 0.1871504 , 0.02331808,\n",
       "       0.19510224, 0.01468892, 0.04900631, 0.12016584, 0.13836538,\n",
       "       0.02408522, 0.08343632, 0.02302663, 0.12465093, 0.01055305,\n",
       "       0.07163406, 0.0928744 , 0.03333919, 0.0700925 , 0.02238021,\n",
       "       0.14949586, 0.08568461, 0.        , 0.        , 0.01830356,\n",
       "       0.09521681, 0.04291124, 0.14820876, 0.01483113, 0.10042398,\n",
       "       0.05568837, 0.0448179 , 0.05947579, 0.06403331, 0.14050562,\n",
       "       0.08059795, 0.        , 0.04095625, 0.0221756 , 0.16934947,\n",
       "       0.01860862, 0.15588905, 0.14304028, 0.        , 0.05787816,\n",
       "       0.07526504, 0.07272845, 0.06378382, 0.06841054, 0.18434904,\n",
       "       0.02430012, 0.01661191, 0.05297822, 0.04805997, 0.        ,\n",
       "       0.11151141, 0.07795876, 0.12291611, 0.02247355, 0.05971528,\n",
       "       0.02037015, 0.04433865, 0.10002638, 0.10450219, 0.02538357,\n",
       "       0.00169243, 0.09619109, 0.0770845 , 0.02103713, 0.01572773,\n",
       "       0.02031044, 0.09545575, 0.01780903, 0.18094225, 0.0520717 ,\n",
       "       0.18438748, 0.05742651, 0.01449901, 0.11715626, 0.09587366,\n",
       "       0.01021178, 0.10323797, 0.07421358, 0.07847313, 0.        ,\n",
       "       0.22700367, 0.01046038, 0.1322457 , 0.04460839, 0.14068768,\n",
       "       0.        , 0.12200992, 0.06289053, 0.02745084, 0.14074167,\n",
       "       0.01676798, 0.09263709, 0.05045869, 0.17633624, 0.14735973,\n",
       "       0.10708194, 0.12881891, 0.03853186, 0.03737679, 0.02400155,\n",
       "       0.07643701, 0.03246169, 0.02930354, 0.02420211, 0.04115084,\n",
       "       0.14073151, 0.12022969, 0.01471374, 0.02771242, 0.02077203,\n",
       "       0.07201737, 0.08675349, 0.15485244, 0.06768953, 0.01033514,\n",
       "       0.        , 0.09736247, 0.05564518, 0.0924443 , 0.00924546,\n",
       "       0.13022242, 0.056451  , 0.        , 0.06548481, 0.02013856,\n",
       "       0.        , 0.01792137, 0.        , 0.12329998, 0.07980979,\n",
       "       0.08861857, 0.00711806, 0.07934504, 0.        , 0.04110338,\n",
       "       0.0817707 , 0.0758563 , 0.        , 0.06967923, 0.02345695,\n",
       "       0.01593088, 0.03638552, 0.05102579, 0.01110856, 0.00943819,\n",
       "       0.12208488, 0.00886512, 0.05713332, 0.01724147, 0.11799012,\n",
       "       0.07158663, 0.04205081])"
      ]
     },
     "execution_count": 89,
     "metadata": {},
     "output_type": "execute_result"
    }
   ],
   "source": [
    "simmilarity_scores[0]"
   ]
  },
  {
   "cell_type": "markdown",
   "metadata": {},
   "source": [
    "This tells us how much book no 0 is simmilar to other books in the dataframe."
   ]
  },
  {
   "cell_type": "code",
   "execution_count": 93,
   "metadata": {},
   "outputs": [],
   "source": [
    "def recommend_books(book_name):\n",
    "    book_index = np.where(pt.index==book_name)[0][0]\n",
    "    distances = simmilarity_scores[book_index]\n",
    "    suggestions = sorted(enumerate(distances), key=lambda x: x[1], reverse=True)[1:6] # 0th index is the book itself\n",
    "    for i in suggestions:\n",
    "        print(i[0], pt.index[i[0]])\n",
    "    return suggestions"
   ]
  },
  {
   "cell_type": "code",
   "execution_count": 96,
   "metadata": {},
   "outputs": [
    {
     "name": "stdout",
     "output_type": "stream",
     "text": [
      "47 Animal Farm\n",
      "546 The Handmaid's Tale\n",
      "82 Brave New World\n",
      "635 The Vampire Lestat (Vampire Chronicles, Book II)\n",
      "552 The Hours : A Novel\n"
     ]
    }
   ],
   "source": [
    "suggestions = recommend_books('1984')"
   ]
  },
  {
   "cell_type": "code",
   "execution_count": null,
   "metadata": {},
   "outputs": [],
   "source": []
  }
 ],
 "metadata": {
  "kernelspec": {
   "display_name": "deeplearning",
   "language": "python",
   "name": "python3"
  },
  "language_info": {
   "codemirror_mode": {
    "name": "ipython",
    "version": 3
   },
   "file_extension": ".py",
   "mimetype": "text/x-python",
   "name": "python",
   "nbconvert_exporter": "python",
   "pygments_lexer": "ipython3",
   "version": "3.11.8"
  }
 },
 "nbformat": 4,
 "nbformat_minor": 2
}
